{
 "cells": [
  {
   "cell_type": "code",
   "execution_count": 21,
   "metadata": {},
   "outputs": [
    {
     "ename": "ImportError",
     "evalue": "DLL load failed: The specified module could not be found.",
     "output_type": "error",
     "traceback": [
      "\u001b[1;31m---------------------------------------------------------------------------\u001b[0m",
      "\u001b[1;31mImportError\u001b[0m                               Traceback (most recent call last)",
      "\u001b[1;32m<ipython-input-21-8e5b8279ef6f>\u001b[0m in \u001b[0;36m<module>\u001b[1;34m()\u001b[0m\n\u001b[1;32m----> 1\u001b[1;33m \u001b[1;32mimport\u001b[0m \u001b[0mcv2\u001b[0m\u001b[1;33m\u001b[0m\u001b[0m\n\u001b[0m\u001b[0;32m      2\u001b[0m \u001b[1;31m# import imutils\u001b[0m\u001b[1;33m\u001b[0m\u001b[1;33m\u001b[0m\u001b[0m\n\u001b[0;32m      3\u001b[0m \u001b[1;32mimport\u001b[0m \u001b[0mnumpy\u001b[0m \u001b[1;32mas\u001b[0m \u001b[0mnp\u001b[0m\u001b[1;33m\u001b[0m\u001b[0m\n\u001b[0;32m      4\u001b[0m \u001b[1;32mfrom\u001b[0m \u001b[0mPIL\u001b[0m \u001b[1;32mimport\u001b[0m \u001b[0mImage\u001b[0m\u001b[1;33m\u001b[0m\u001b[0m\n\u001b[0;32m      5\u001b[0m \u001b[1;32mimport\u001b[0m \u001b[0mre\u001b[0m\u001b[1;33m\u001b[0m\u001b[0m\n",
      "\u001b[1;32md:\\python27\\lib\\site-packages\\cv2\\__init__.py\u001b[0m in \u001b[0;36m<module>\u001b[1;34m()\u001b[0m\n\u001b[0;32m      1\u001b[0m \u001b[1;32mimport\u001b[0m \u001b[0mimportlib\u001b[0m\u001b[1;33m\u001b[0m\u001b[0m\n\u001b[0;32m      2\u001b[0m \u001b[1;33m\u001b[0m\u001b[0m\n\u001b[1;32m----> 3\u001b[1;33m \u001b[1;32mfrom\u001b[0m \u001b[1;33m.\u001b[0m\u001b[0mcv2\u001b[0m \u001b[1;32mimport\u001b[0m \u001b[1;33m*\u001b[0m\u001b[1;33m\u001b[0m\u001b[0m\n\u001b[0m\u001b[0;32m      4\u001b[0m \u001b[1;32mfrom\u001b[0m \u001b[1;33m.\u001b[0m\u001b[0mdata\u001b[0m \u001b[1;32mimport\u001b[0m \u001b[1;33m*\u001b[0m\u001b[1;33m\u001b[0m\u001b[0m\n\u001b[0;32m      5\u001b[0m \u001b[1;33m\u001b[0m\u001b[0m\n",
      "\u001b[1;31mImportError\u001b[0m: DLL load failed: The specified module could not be found."
     ]
    }
   ],
   "source": [
    "import cv2\n",
    "# import imutils\n",
    "import numpy as np\n",
    "from PIL import Image\n",
    "import re\n",
    "from matplotlib import pyplot as plt\n",
    "import os"
   ]
  },
  {
   "cell_type": "code",
   "execution_count": 2,
   "metadata": {},
   "outputs": [],
   "source": [
    "def PILtoCV(img):\n",
    "    return np.asarray(img.convert('L'))\n",
    "\n",
    "def display(tag, img):\n",
    "    cv2.imshow(tag,img)\n",
    "    cv2.waitKey(0)\n",
    "    cv2.destroyAllWindows()\n",
    "\n",
    "    \n",
    "def depth(filename):\n",
    "    with open(filename) as f:\n",
    "        data = f.read()\n",
    "    \n",
    "    data = data[:-1]\n",
    "    newlines = [m.start() for m in re.finditer('\\n', data)]\n",
    "    newlines.insert(0, 0)\n",
    "\n",
    "    imgData = []\n",
    "    for i in range(len(newlines)):\n",
    "        if i==0:\n",
    "            continue\n",
    "        strData = data[newlines[i-1]:newlines[i]]\n",
    "        strData = np.asarray([0 if int(val)==2047 else int(val) for val in strData.split()])\n",
    "        imgData.append(strData)\n",
    "    imgData = np.asarray(imgData)\n",
    "    img = Image.fromarray(imgData * 255.0/2047)\n",
    "    img = PILtoCV(img)\n",
    "    denoised_img = cv2.medianBlur(img, 5)\n",
    "    denoised_img[denoised_img==0] = denoised_img.max()\n",
    "    return img, denoised_img"
   ]
  },
  {
   "cell_type": "code",
   "execution_count": 3,
   "metadata": {},
   "outputs": [],
   "source": [
    "def segmentation():\n",
    "    lower = np.array([0, 48, 80], dtype='uint8')\n",
    "    upper = np.array([20, 255, 255], dtype='uint8')\n",
    "\n",
    "    while True:\n",
    "        # imageName = \"\"\n",
    "    #     image = cv2.imread(imageName)\n",
    "        camera = cv2.VideoCapture(0)\n",
    "        (grabbed, image) = camera.read()\n",
    "        image = imutils.resize(image, width = 400)\n",
    "    #     cv2.imshow(\"orif\", image)\n",
    "        imageHSV = cv2.cvtColor(image, cv2.COLOR_BGR2HSV)\n",
    "        skinMask = cv2.inRange(imageHSV, lower, upper)\n",
    "\n",
    "    #     kernel = cv2.getStructuringElement(cv2.MORPH_ELLIPSE, (11, 11))\n",
    "    #     skinMask = cv2.erode(skinMask, kernel, iterations = 1)\n",
    "    #     skinMask = cv2.dilate(skinMask, kernel, iterations = 1)\n",
    "\n",
    "        skinMask = cv2.GaussianBlur(skinMask, (3, 3), 0)\n",
    "        maskedImage = cv2.bitwise_and(image, image, mask = skinMask)\n",
    "\n",
    "        cv2.imshow(\"masked\", maskedImage)\n",
    "        if cv2.waitKey(1) & 0xFF == ord(\"0\"):\n",
    "            break\n",
    "\n",
    "    camera.release()\n",
    "    cv2.destroyAllWindows()\n"
   ]
  },
  {
   "cell_type": "code",
   "execution_count": 4,
   "metadata": {},
   "outputs": [
    {
     "ename": "NameError",
     "evalue": "global name 'cv2' is not defined",
     "output_type": "error",
     "traceback": [
      "\u001b[1;31m---------------------------------------------------------------------------\u001b[0m",
      "\u001b[1;31mNameError\u001b[0m                                 Traceback (most recent call last)",
      "\u001b[1;32m<ipython-input-4-231ba85964bb>\u001b[0m in \u001b[0;36m<module>\u001b[1;34m()\u001b[0m\n\u001b[1;32m----> 1\u001b[1;33m \u001b[0mimg\u001b[0m\u001b[1;33m,\u001b[0m \u001b[0mdenoised_img\u001b[0m \u001b[1;33m=\u001b[0m \u001b[0mdepth\u001b[0m\u001b[1;33m(\u001b[0m\u001b[1;34m'USER-8-1-1.txt'\u001b[0m\u001b[1;33m)\u001b[0m\u001b[1;33m\u001b[0m\u001b[0m\n\u001b[0m\u001b[0;32m      2\u001b[0m \u001b[0mdisplay\u001b[0m\u001b[1;33m(\u001b[0m\u001b[1;34m\"Noised Image\"\u001b[0m\u001b[1;33m,\u001b[0m \u001b[0mimg\u001b[0m\u001b[1;33m)\u001b[0m\u001b[1;33m\u001b[0m\u001b[0m\n\u001b[0;32m      3\u001b[0m \u001b[0mdisplay\u001b[0m\u001b[1;33m(\u001b[0m\u001b[1;34m\"Denoised Image\"\u001b[0m\u001b[1;33m,\u001b[0m \u001b[0mdenoised_img\u001b[0m\u001b[1;33m)\u001b[0m\u001b[1;33m\u001b[0m\u001b[0m\n\u001b[0;32m      4\u001b[0m \u001b[0mdenoised_img\u001b[0m \u001b[1;33m=\u001b[0m \u001b[0mnp\u001b[0m\u001b[1;33m.\u001b[0m\u001b[0mfloat32\u001b[0m\u001b[1;33m(\u001b[0m\u001b[0mdenoised_img\u001b[0m\u001b[1;33m)\u001b[0m\u001b[1;33m\u001b[0m\u001b[0m\n\u001b[0;32m      5\u001b[0m \u001b[0msize\u001b[0m \u001b[1;33m=\u001b[0m \u001b[0mdenoised_img\u001b[0m\u001b[1;33m.\u001b[0m\u001b[0mshape\u001b[0m\u001b[1;33m\u001b[0m\u001b[0m\n",
      "\u001b[1;32m<ipython-input-2-1284bf9dba0c>\u001b[0m in \u001b[0;36mdepth\u001b[1;34m(filename)\u001b[0m\n\u001b[0;32m     26\u001b[0m     \u001b[0mimg\u001b[0m \u001b[1;33m=\u001b[0m \u001b[0mImage\u001b[0m\u001b[1;33m.\u001b[0m\u001b[0mfromarray\u001b[0m\u001b[1;33m(\u001b[0m\u001b[0mimgData\u001b[0m \u001b[1;33m*\u001b[0m \u001b[1;36m255.0\u001b[0m\u001b[1;33m/\u001b[0m\u001b[1;36m2047\u001b[0m\u001b[1;33m)\u001b[0m\u001b[1;33m\u001b[0m\u001b[0m\n\u001b[0;32m     27\u001b[0m     \u001b[0mimg\u001b[0m \u001b[1;33m=\u001b[0m \u001b[0mPILtoCV\u001b[0m\u001b[1;33m(\u001b[0m\u001b[0mimg\u001b[0m\u001b[1;33m)\u001b[0m\u001b[1;33m\u001b[0m\u001b[0m\n\u001b[1;32m---> 28\u001b[1;33m     \u001b[0mdenoised_img\u001b[0m \u001b[1;33m=\u001b[0m \u001b[0mcv2\u001b[0m\u001b[1;33m.\u001b[0m\u001b[0mmedianBlur\u001b[0m\u001b[1;33m(\u001b[0m\u001b[0mimg\u001b[0m\u001b[1;33m,\u001b[0m \u001b[1;36m5\u001b[0m\u001b[1;33m)\u001b[0m\u001b[1;33m\u001b[0m\u001b[0m\n\u001b[0m\u001b[0;32m     29\u001b[0m     \u001b[0mdenoised_img\u001b[0m\u001b[1;33m[\u001b[0m\u001b[0mdenoised_img\u001b[0m\u001b[1;33m==\u001b[0m\u001b[1;36m0\u001b[0m\u001b[1;33m]\u001b[0m \u001b[1;33m=\u001b[0m \u001b[0mdenoised_img\u001b[0m\u001b[1;33m.\u001b[0m\u001b[0mmax\u001b[0m\u001b[1;33m(\u001b[0m\u001b[1;33m)\u001b[0m\u001b[1;33m\u001b[0m\u001b[0m\n\u001b[0;32m     30\u001b[0m     \u001b[1;32mreturn\u001b[0m \u001b[0mimg\u001b[0m\u001b[1;33m,\u001b[0m \u001b[0mdenoised_img\u001b[0m\u001b[1;33m\u001b[0m\u001b[0m\n",
      "\u001b[1;31mNameError\u001b[0m: global name 'cv2' is not defined"
     ]
    }
   ],
   "source": [
    "img, denoised_img = depth('USER-8-1-1.txt')\n",
    "display(\"Noised Image\", img)\n",
    "display(\"Denoised Image\", denoised_img)\n",
    "denoised_img = np.float32(denoised_img)\n",
    "size = denoised_img.shape"
   ]
  },
  {
   "cell_type": "code",
   "execution_count": null,
   "metadata": {},
   "outputs": [],
   "source": [
    "denoised_img = denoised_img.reshape(-1)\n",
    "criteria = (cv2.TERM_CRITERIA_EPS + cv2.TERM_CRITERIA_MAX_ITER, 10, 1.0)\n",
    "K = 3\n",
    "ret,label,center=cv2.kmeans(denoised_img,3,criteria,10,0)"
   ]
  },
  {
   "cell_type": "code",
   "execution_count": null,
   "metadata": {},
   "outputs": [],
   "source": [
    "def getHandGesture():\n",
    "    \n",
    "    for fileName in os.listdir('user18/'):\n",
    "        print fileName\n",
    "        img, denoised_img = depth('user18/'+fileName)\n",
    "#         display(\"Noised Image\", img)\n",
    "#         display(\"Denoised Image\", denoised_img)\n",
    "        denoised_img = np.float32(denoised_img)\n",
    "\n",
    "        size = denoised_img.shape\n",
    "        denoised_img = denoised_img.reshape(-1)\n",
    "        criteria = (cv2.TERM_CRITERIA_EPS + cv2.TERM_CRITERIA_MAX_ITER, 10, 1.0)\n",
    "        K = 3\n",
    "\n",
    "        ret,label,center=cv2.kmeans(denoised_img,3,criteria,10,0)\n",
    "        colors = np.ones(3) * 125\n",
    "        colors[np.argmin(center)] = 0\n",
    "        colors[np.argmax(center)] = 255\n",
    "        new_img = []\n",
    "\n",
    "        for i in range(len(label)):\n",
    "            if colors[label[i][0]] == 0:\n",
    "                new_img.append(colors[label[i][0]])\n",
    "            else:\n",
    "                new_img.append(255)\n",
    "        new_img = np.asarray(new_img)\n",
    "        new_img = new_img.reshape(size)\n",
    "        new_img = Image.fromarray(new_img)\n",
    "        if new_img.mode != 'RGB':\n",
    "            new_img=new_img.convert('RGB')\n",
    "        new_img.save('user-18-segment/'+fileName[:-4]+'.png')"
   ]
  },
  {
   "cell_type": "code",
   "execution_count": 16,
   "metadata": {},
   "outputs": [],
   "source": [
    "# getHandGesture()"
   ]
  },
  {
   "cell_type": "code",
   "execution_count": 33,
   "metadata": {},
   "outputs": [
    {
     "data": {
      "image/png": "[encoded data removed]",
      "text/plain": [
       "<matplotlib.figure.Figure at 0x7d53490>"
      ]
     },
     "metadata": {},
     "output_type": "display_data"
    },
    {
     "data": {
      "image/png": "[encoded data removed]",
      "text/plain": [
       "<matplotlib.figure.Figure at 0x79c9f50>"
      ]
     },
     "metadata": {},
     "output_type": "display_data"
    },
    {
     "name": "stdout",
     "output_type": "stream",
     "text": [
      "(46, 128)\n"
     ]
    }
   ],
   "source": [
    "\n",
    "img = cv2.imread('user-18-sement/USER-18-7-1.png')\n",
    "edges = cv2.Canny(img,100,200)\n",
    "\n",
    "plt.subplot(122),plt.imshow(edges,cmap = 'gray')\n",
    "plt.title('Edge Image'), plt.xticks([]), plt.yticks([])\n",
    "plt.show()\n",
    "surf = cv2.SURF(400)\n",
    "surf.hessianThreshold=500\n",
    "kp, des = surf.detectAndCompute(img,None)\n",
    "len(kp)\n",
    "img2=cv2.drawKeypoints(img,kp,None,(255,0,0),4)\n",
    "plt.imshow(img2),plt.show()\n",
    "print des.shape"
   ]
  },
  {
   "cell_type": "code",
   "execution_count": 19,
   "metadata": {},
   "outputs": [],
   "source": [
    "symbolToWords=['1','2','3','4','5','6','7','8','9','10','A','Add','Appreciation','A-SingleHanded',\n",
    "              'Assistance','B','Bell','Between','Bhangada','bite','blow','bottle','bowl','boxing',\n",
    "              'B-SingleHanded','bud','C','conservation','control','C-SingleHanded','D','Density',\n",
    "              'Deposit','D-SingleHanded','E','Elbow','E-SingleHanded','F','few','fine','friend',\n",
    "               'F-SingleHanded','G','ghost','good','gram','G-SingleHanded','gun','II','Handcuffs',\n",
    "              'help','here','hold','how','H-SingleHanded','I','intermediate','iron','I-SingleHanded',\n",
    "              'It','K','Keep','K-singleHanded','L','leaf','learn','leprosy','little','lose','L-SingleHanded',\n",
    "              'M','mail','me','measure','mirror','M-SingleHanded','N','negative','N-SingleHanded',\n",
    "              'O','Obedience','Okay','opposite','opposition','O-SingleHanded',\n",
    "             'P','participation',\n",
    "              'paw','perfect','potentiality','pray','promise','P-SingleHanded','Q','Q-SingleHanded',\n",
    "              'quantity','questions','R','respect','rigid','R-SingleHanded','S','sample','season',\n",
    "              'secondary','size','skin','small','snake','some','specific','S-SingleHanded','stand',\n",
    "              'strong','study','sugar','T','there','thick','Thursday','T-SingleHanded','U','unit','up',\n",
    "              'U-SingleHanded','V','vacation','Varanasi','V-SingleHanded','W','warn','weight','work',\n",
    "              'W-SingleHanded','X','X-SingleHanded','Y','you','Y-SingleHanded','Z']\n"
   ]
  },
  {
   "cell_type": "code",
   "execution_count": 20,
   "metadata": {},
   "outputs": [
    {
     "name": "stdout",
     "output_type": "stream",
     "text": [
      "140\n"
     ]
    }
   ],
   "source": []
  },
  {
   "cell_type": "code",
   "execution_count": null,
   "metadata": {},
   "outputs": [],
   "source": []
  },
  {
   "cell_type": "code",
   "execution_count": null,
   "metadata": {
    "collapsed": true
   },
   "outputs": [],
   "source": []
  }
 ],
 "metadata": {
  "kernelspec": {
   "display_name": "Python 2",
   "language": "python",
   "name": "python2"
  },
  "language_info": {
   "codemirror_mode": {
    "name": "ipython",
    "version": 2
   },
   "file_extension": ".py",
   "mimetype": "text/x-python",
   "name": "python",
   "nbconvert_exporter": "python",
   "pygments_lexer": "ipython2",
   "version": "2.7.13"
  }
 },
 "nbformat": 4,
 "nbformat_minor": 2
}
