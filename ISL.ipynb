{
 "cells": [
  {
   "cell_type": "code",
   "execution_count": 28,
   "metadata": {},
   "outputs": [],
   "source": [
    "from PIL import Image\n",
    "import math"
   ]
  },
  {
   "cell_type": "code",
   "execution_count": 16,
   "metadata": {},
   "outputs": [],
   "source": [
    "def open_image(path):\n",
    "    newImage = Image.open(path)\n",
    "    return newImage\n",
    "\n",
    "# Save Image\n",
    "def save_image(image, path):\n",
    "    image.save(path, 'png')\n",
    "\n",
    "def create_image(i, j):\n",
    "    image = Image.new(\"RGB\", (i, j), \"white\")\n",
    "    return image\n",
    "\n",
    "def get_pixel(image, i, j):\n",
    "\n",
    "    width, height = image.size\n",
    "    if i > width or j > height:\n",
    "        return None\n",
    "\n",
    "    pixel = image.getpixel((i, j))\n",
    "    return pixel"
   ]
  },
  {
   "cell_type": "code",
   "execution_count": 57,
   "metadata": {},
   "outputs": [],
   "source": [
    "def convert_YIQ(image):\n",
    "    width, height = image.size\n",
    "\n",
    "    new = create_image(width, height)\n",
    "    pixels = new.load()\n",
    "\n",
    "    for i in range(width):\n",
    "        for j in range(height):\n",
    "            # Get Pixel\n",
    "            pixel = get_pixel(image, i, j)\n",
    "\n",
    "            Y =   pixel[0]*0.299+pixel[1]*0.587+pixel[2]*0.114\n",
    "            I = pixel[0]*0.596+pixel[1]*(-0.274)+pixel[2]*(-0.322)\n",
    "            Q =  pixel[0]*0.211+pixel[1]*(-0.523)+pixel[2]*0.312\n",
    "            \n",
    "            Y1 =  pixel[0]*0.299+pixel[1]*0.587+pixel[2]*0.114\n",
    "            U1 = pixel[0]*(-0.14713)+pixel[1]*(-0.28886)+pixel[2]*(0.436)\n",
    "            V1 =  pixel[0]*(0.615)+pixel[1]*(-0.51499)+pixel[2]*(-0.10001)\n",
    "            \n",
    "            theta = math.degrees(math.atan(float(U1/V1)))\n",
    "#             print theta,I\n",
    "            if theta>=-5 and theta<=-1 and I>=20 and I<=30:\n",
    "                pixels[i,j]=(int(pixel[0]),int(pixel[1]),int(pixel[2]))\n",
    "            else:\n",
    "                pixels[i,j] = (0,0,0)\n",
    "\n",
    "    # Return new image\n",
    "    return new\n"
   ]
  },
  {
   "cell_type": "code",
   "execution_count": 69,
   "metadata": {},
   "outputs": [
    {
     "name": "stderr",
     "output_type": "stream",
     "text": [
      "d:\\python27\\lib\\site-packages\\ipykernel_launcher.py:11: DeprecationWarning: integer argument expected, got float\n",
      "  # This is added back by InteractiveShellApp.init_path()\n"
     ]
    },
    {
     "ename": "TypeError",
     "evalue": "integer argument expected, got float",
     "output_type": "error",
     "traceback": [
      "\u001b[1;31m---------------------------------------------------------------------------\u001b[0m",
      "\u001b[1;31mTypeError\u001b[0m                                 Traceback (most recent call last)",
      "\u001b[1;32m<ipython-input-69-025c28181e0d>\u001b[0m in \u001b[0;36m<module>\u001b[1;34m()\u001b[0m\n\u001b[1;32m----> 1\u001b[1;33m \u001b[0mans\u001b[0m \u001b[1;33m=\u001b[0m \u001b[0mconvert_HSV\u001b[0m\u001b[1;33m(\u001b[0m\u001b[0mopen_image\u001b[0m\u001b[1;33m(\u001b[0m\u001b[1;34m'C:/Users/DELL/Downloads/user17rgb/user17/USER-17-2-1.png'\u001b[0m\u001b[1;33m)\u001b[0m\u001b[1;33m)\u001b[0m\u001b[1;33m\u001b[0m\u001b[0m\n\u001b[0m\u001b[0;32m      2\u001b[0m \u001b[0msave_image\u001b[0m\u001b[1;33m(\u001b[0m\u001b[0mans\u001b[0m\u001b[1;33m,\u001b[0m\u001b[1;34m'C:/Users/DELL/Desktop/abc.png'\u001b[0m\u001b[1;33m)\u001b[0m\u001b[1;33m\u001b[0m\u001b[0m\n",
      "\u001b[1;32m<ipython-input-68-daf896ff0b40>\u001b[0m in \u001b[0;36mconvert_HSV\u001b[1;34m(image)\u001b[0m\n\u001b[0;32m      9\u001b[0m             \u001b[1;31m# Get Pixel\u001b[0m\u001b[1;33m\u001b[0m\u001b[1;33m\u001b[0m\u001b[0m\n\u001b[0;32m     10\u001b[0m             \u001b[0mpixel\u001b[0m \u001b[1;33m=\u001b[0m \u001b[0mget_pixel\u001b[0m\u001b[1;33m(\u001b[0m\u001b[0mimage\u001b[0m\u001b[1;33m,\u001b[0m \u001b[0mi\u001b[0m\u001b[1;33m,\u001b[0m \u001b[0mj\u001b[0m\u001b[1;33m)\u001b[0m\u001b[1;33m\u001b[0m\u001b[0m\n\u001b[1;32m---> 11\u001b[1;33m             \u001b[0mpixels\u001b[0m\u001b[1;33m[\u001b[0m\u001b[0mi\u001b[0m\u001b[1;33m,\u001b[0m\u001b[0mj\u001b[0m\u001b[1;33m]\u001b[0m\u001b[1;33m=\u001b[0m\u001b[0mcolorsys\u001b[0m\u001b[1;33m.\u001b[0m\u001b[0mrgb_to_hsv\u001b[0m\u001b[1;33m(\u001b[0m\u001b[0mpixel\u001b[0m\u001b[1;33m[\u001b[0m\u001b[1;36m0\u001b[0m\u001b[1;33m]\u001b[0m\u001b[1;33m,\u001b[0m\u001b[0mpixel\u001b[0m\u001b[1;33m[\u001b[0m\u001b[1;36m1\u001b[0m\u001b[1;33m]\u001b[0m\u001b[1;33m,\u001b[0m\u001b[0mpixel\u001b[0m\u001b[1;33m[\u001b[0m\u001b[1;36m2\u001b[0m\u001b[1;33m]\u001b[0m\u001b[1;33m)\u001b[0m\u001b[1;33m\u001b[0m\u001b[0m\n\u001b[0m\u001b[0;32m     12\u001b[0m     \u001b[1;32mreturn\u001b[0m \u001b[0mimage\u001b[0m\u001b[1;33m\u001b[0m\u001b[0m\n",
      "\u001b[1;31mTypeError\u001b[0m: integer argument expected, got float"
     ]
    }
   ],
   "source": [
    "ans = convert_HSV(open_image('C:/Users/DELL/Downloads/user17rgb/user17/USER-17-2-1.png'))\n",
    "save_image(ans,'C:/Users/DELL/Desktop/abc.png')"
   ]
  },
  {
   "cell_type": "code",
   "execution_count": 70,
   "metadata": {},
   "outputs": [],
   "source": [
    "def convert_HSV(image):\n",
    "    width, height = image.size\n",
    "\n",
    "    new = create_image(width, height)\n",
    "    pixels = new.load()\n",
    "\n",
    "    for i in range(width):\n",
    "        for j in range(height):\n",
    "            # Get Pixel\n",
    "            pixel = get_pixel(image, i, j)\n",
    "            pixels[i,j]=colorsys.rgb_to_hsv(pixel[0],pixel[1],pixel[2])\n",
    "    return image"
   ]
  },
  {
   "cell_type": "code",
   "execution_count": 54,
   "metadata": {},
   "outputs": [
    {
     "name": "stdout",
     "output_type": "stream",
     "text": [
      "-1.38188254571 29.367999999999988\n"
     ]
    }
   ],
   "source": [
    "pixel = np.array(get_pixel(open_image('C:/Users/DELL/Downloads/user17rgb/user17/USER-17-1-1.png'),282,304))\n",
    "print colorsys.rgb_to_hsv(pixels[0],pixels[1],pixels[2])\n",
    "print theta,I"
   ]
  },
  {
   "cell_type": "code",
   "execution_count": 62,
   "metadata": {},
   "outputs": [],
   "source": [
    "import colorsys"
   ]
  },
  {
   "cell_type": "code",
   "execution_count": null,
   "metadata": {},
   "outputs": [],
   "source": []
  }
 ],
 "metadata": {
  "kernelspec": {
   "display_name": "Python 2",
   "language": "python",
   "name": "python2"
  },
  "language_info": {
   "codemirror_mode": {
    "name": "ipython",
    "version": 2
   },
   "file_extension": ".py",
   "mimetype": "text/x-python",
   "name": "python",
   "nbconvert_exporter": "python",
   "pygments_lexer": "ipython2",
   "version": "2.7.13"
  }
 },
 "nbformat": 4,
 "nbformat_minor": 2
}
