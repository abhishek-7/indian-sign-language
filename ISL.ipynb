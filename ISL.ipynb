{
 "cells": [
  {
   "cell_type": "code",
   "execution_count": 28,
   "metadata": {},
   "outputs": [],
   "source": [
    "from PIL import Image\n",
    "import math"
   ]
  },
  {
   "cell_type": "code",
   "execution_count": 16,
   "metadata": {},
   "outputs": [],
   "source": [
    "def open_image(path):\n",
    "    newImage = Image.open(path)\n",
    "    return newImage\n",
    "\n",
    "# Save Image\n",
    "def save_image(image, path):\n",
    "    image.save(path, 'png')\n",
    "\n",
    "def create_image(i, j):\n",
    "    image = Image.new(\"RGB\", (i, j), \"white\")\n",
    "    return image\n",
    "\n",
    "def get_pixel(image, i, j):\n",
    "\n",
    "    width, height = image.size\n",
    "    if i > width or j > height:\n",
    "        return None\n",
    "\n",
    "    pixel = image.getpixel((i, j))\n",
    "    return pixel"
   ]
  },
  {
   "cell_type": "code",
   "execution_count": 35,
   "metadata": {},
   "outputs": [],
   "source": [
    "def convert_YIQ(image):\n",
    "    width, height = image.size\n",
    "\n",
    "    new = create_image(width, height)\n",
    "    pixels = new.load()\n",
    "\n",
    "    for i in range(width):\n",
    "        for j in range(height):\n",
    "            # Get Pixel\n",
    "            pixel = get_pixel(image, i, j)\n",
    "\n",
    "            Y =   pixel[0]*0.299+pixel[1]*0.587+pixel[2]*0.114\n",
    "            I = pixel[0]*0.596+pixel[1]*(-0.274)+pixel[2]*(-0.322)\n",
    "            Q =  pixel[0]*0.211+pixel[1]*(-0.523)+pixel[2]*0.312\n",
    "            \n",
    "            Y1 =  pixel[0]*0.299+pixel[1]*0.587+pixel[2]*0.114\n",
    "            U1 = pixel[0]*(-0.14713)+pixel[1]*(-0.28886)+pixel[2]*(0.436)\n",
    "            V1 =  pixel[0]*(0.615)+pixel[1]*(-0.51499)+pixel[2]*(-0.10001)\n",
    "            \n",
    "            theta = math.degrees(math.atan(float(U1/V1)))\n",
    "#             print theta,I\n",
    "            if theta>105 and theta<150 and I>30 and I<100:\n",
    "                pixels[i,j]=(int(pixel[0]),int(pixel[1]),int(pixel[2]))\n",
    "            else:\n",
    "                pixels[i,j] = (0,0,0)\n",
    "\n",
    "    # Return new image\n",
    "    return new\n"
   ]
  },
  {
   "cell_type": "code",
   "execution_count": 36,
   "metadata": {},
   "outputs": [],
   "source": [
    "ans = convert_YIQ(open_image('C:/Users/DELL/Downloads/user17rgb/user17/USER-17-1-1.png'))\n",
    "save_image(ans,'C:/Users/DELL/Desktop/abc.png')"
   ]
  },
  {
   "cell_type": "code",
   "execution_count": null,
   "metadata": {},
   "outputs": [],
   "source": []
  }
 ],
 "metadata": {
  "kernelspec": {
   "display_name": "Python 2",
   "language": "python",
   "name": "python2"
  },
  "language_info": {
   "codemirror_mode": {
    "name": "ipython",
    "version": 2
   },
   "file_extension": ".py",
   "mimetype": "text/x-python",
   "name": "python",
   "nbconvert_exporter": "python",
   "pygments_lexer": "ipython2",
   "version": "2.7.13"
  }
 },
 "nbformat": 4,
 "nbformat_minor": 2
}
