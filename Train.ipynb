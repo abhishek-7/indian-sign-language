{
  "nbformat": 4,
  "nbformat_minor": 0,
  "metadata": {
    "colab": {
      "name": "Train.ipynb",
      "version": "0.3.2",
      "provenance": [],
      "collapsed_sections": []
    },
    "kernelspec": {
      "name": "python3",
      "display_name": "Python 3"
    }
  },
  "cells": [
    {
      "metadata": {
        "id": "oDK86lBBJBE_",
        "colab_type": "code",
        "colab": {}
      },
      "cell_type": "code",
      "source": [
        "import numpy as np\n",
        "from keras.layers import Dense, Activation, Convolution2D, MaxPooling2D, Dropout, Flatten\n",
        "from keras.models import Sequential, save_model\n",
        "from keras.utils import np_utils\n",
        "import os\n",
        "import cv2\n",
        "from sklearn.utils import shuffle"
      ],
      "execution_count": 0,
      "outputs": []
    },
    {
      "metadata": {
        "id": "CN9B4PBoPfta",
        "colab_type": "code",
        "colab": {}
      },
      "cell_type": "code",
      "source": [
        "def image_resize(image, width = None, height = None, inter = cv2.INTER_AREA):\n",
        " \n",
        "    dim = None\n",
        "    (h, w) = image.shape[:2]\n",
        "\n",
        "    if width is None and height is None:\n",
        "        return image\n",
        "\n",
        "    if width is None:\n",
        "        r = height / float(h)\n",
        "        dim = (int(w * r), height)\n",
        "\n",
        "    else:\n",
        "        r = width / float(w)\n",
        "        dim = (width, int(h * r))\n",
        "\n",
        "    resized = cv2.resize(image, dim, interpolation = inter)\n",
        "\n",
        "    return resized"
      ],
      "execution_count": 0,
      "outputs": []
    },
    {
      "metadata": {
        "id": "vGn_JzIJJIFt",
        "colab_type": "code",
        "colab": {
          "base_uri": "https://localhost:8080/",
          "height": 54
        },
        "outputId": "292d5fce-1ea1-4285-f001-96e56bf6eb7d"
      },
      "cell_type": "code",
      "source": [
        "gestures=['1','2','3','4','5','6','7','8','9','10','A','Add','Appreciation','A-SingleHanded',\n",
        "              'Assistance','B','Bell','Between','Bhangada','bite','blow','bottle','bowl','boxing',\n",
        "              'B-SingleHanded','bud','C','conservation','control','C-SingleHanded','D','Density',\n",
        "              'Deposit','D-SingleHanded','E','Elbow','E-SingleHanded','F','few','fine','friend',\n",
        "               'F-SingleHanded','G','ghost','good','gram','G-SingleHanded','gun','II','Handcuffs',\n",
        "              'help','here','hold','how','H-SingleHanded','I','intermediate','iron','I-SingleHanded',\n",
        "              'It','K','Keep','K-singleHanded','L','leaf','learn','leprosy','little','lose','L-SingleHanded',\n",
        "              'M','mail','me','measure','mirror','M-SingleHanded','N','negative','N-SingleHanded',\n",
        "              'O','Obedience','Okay','opposite','opposition','O-SingleHanded',\n",
        "             'P','participation',\n",
        "              'paw','perfect','potentiality','pray','promise','P-SingleHanded','Q','Q-SingleHanded',\n",
        "              'quantity','questions','R','respect','rigid','R-SingleHanded','S','sample','season',\n",
        "              'secondary','size','skin','small','snake','some','specific','S-SingleHanded','stand',\n",
        "              'strong','study','sugar','T','there','thick','Thursday','T-SingleHanded','U','unit','up',\n",
        "              'U-SingleHanded','V','vacation','Varanasi','V-SingleHanded','W','warn','weight','work',\n",
        "              'W-SingleHanded','X','X-SingleHanded','Y','you','Y-SingleHanded','Z']\n",
        "indexToGestureHash = {i:gestures[i] for i in range(len(gestures))}"
      ],
      "execution_count": 30,
      "outputs": [
        {
          "output_type": "stream",
          "text": [
            "{0: '1', 1: '2', 2: '3', 3: '4', 4: '5', 5: '6', 6: '7', 7: '8', 8: '9', 9: '10', 10: 'A', 11: 'Add', 12: 'Appreciation', 13: 'A-SingleHanded', 14: 'Assistance', 15: 'B', 16: 'Bell', 17: 'Between', 18: 'Bhangada', 19: 'bite', 20: 'blow', 21: 'bottle', 22: 'bowl', 23: 'boxing', 24: 'B-SingleHanded', 25: 'bud', 26: 'C', 27: 'conservation', 28: 'control', 29: 'C-SingleHanded', 30: 'D', 31: 'Density', 32: 'Deposit', 33: 'D-SingleHanded', 34: 'E', 35: 'Elbow', 36: 'E-SingleHanded', 37: 'F', 38: 'few', 39: 'fine', 40: 'friend', 41: 'F-SingleHanded', 42: 'G', 43: 'ghost', 44: 'good', 45: 'gram', 46: 'G-SingleHanded', 47: 'gun', 48: 'II', 49: 'Handcuffs', 50: 'help', 51: 'here', 52: 'hold', 53: 'how', 54: 'H-SingleHanded', 55: 'I', 56: 'intermediate', 57: 'iron', 58: 'I-SingleHanded', 59: 'It', 60: 'K', 61: 'Keep', 62: 'K-singleHanded', 63: 'L', 64: 'leaf', 65: 'learn', 66: 'leprosy', 67: 'little', 68: 'lose', 69: 'L-SingleHanded', 70: 'M', 71: 'mail', 72: 'me', 73: 'measure', 74: 'mirror', 75: 'M-SingleHanded', 76: 'N', 77: 'negative', 78: 'N-SingleHanded', 79: 'O', 80: 'Obedience', 81: 'Okay', 82: 'opposite', 83: 'opposition', 84: 'O-SingleHanded', 85: 'P', 86: 'participation', 87: 'paw', 88: 'perfect', 89: 'potentiality', 90: 'pray', 91: 'promise', 92: 'P-SingleHanded', 93: 'Q', 94: 'Q-SingleHanded', 95: 'quantity', 96: 'questions', 97: 'R', 98: 'respect', 99: 'rigid', 100: 'R-SingleHanded', 101: 'S', 102: 'sample', 103: 'season', 104: 'secondary', 105: 'size', 106: 'skin', 107: 'small', 108: 'snake', 109: 'some', 110: 'specific', 111: 'S-SingleHanded', 112: 'stand', 113: 'strong', 114: 'study', 115: 'sugar', 116: 'T', 117: 'there', 118: 'thick', 119: 'Thursday', 120: 'T-SingleHanded', 121: 'U', 122: 'unit', 123: 'up', 124: 'U-SingleHanded', 125: 'V', 126: 'vacation', 127: 'Varanasi', 128: 'V-SingleHanded', 129: 'W', 130: 'warn', 131: 'weight', 132: 'work', 133: 'W-SingleHanded', 134: 'X', 135: 'X-SingleHanded', 136: 'Y', 137: 'you', 138: 'Y-SingleHanded', 139: 'Z'}\n"
          ],
          "name": "stdout"
        }
      ]
    },
    {
      "metadata": {
        "id": "s9PFQ35bJaAn",
        "colab_type": "code",
        "colab": {}
      },
      "cell_type": "code",
      "source": [
        "x,y=[],[]\n",
        "for imageName in os.listdir('user-18-segment/'):\n",
        "  print (imageName)\n",
        "  image = cv2.imread('user-18-segment/'+imageName,0)\n",
        "  image = np.array(image)\n",
        "  image = image_resize(image,175,175)\n",
        "  image = image.reshape((175,130,1))\n",
        "  image = image/255.0\n",
        "  x.append(image)\n",
        "  gesture = int(imageName.split('-')[-2])-1\n",
        "#   print (gesture,int(imageName.split('-')[-2])-1)\n",
        "  y.append(gesture)\n",
        "  \n",
        "  "
      ],
      "execution_count": 0,
      "outputs": []
    },
    {
      "metadata": {
        "id": "NX5KgbOYKs54",
        "colab_type": "code",
        "colab": {
          "base_uri": "https://localhost:8080/",
          "height": 34
        },
        "outputId": "fa3286d5-c1ef-4be3-8188-9c2956124fdc"
      },
      "cell_type": "code",
      "source": [
        "x=np.array(x)\n",
        "# print (y)\n",
        "y=np_utils.to_categorical(np.array(y))\n",
        "print (x.shape,y.shape)\n",
        "# print (y)"
      ],
      "execution_count": 53,
      "outputs": [
        {
          "output_type": "stream",
          "text": [
            "(280, 175, 130, 1) (280, 140)\n"
          ],
          "name": "stdout"
        }
      ]
    },
    {
      "metadata": {
        "id": "R5bVnsvGSGGJ",
        "colab_type": "code",
        "colab": {
          "base_uri": "https://localhost:8080/",
          "height": 34
        },
        "outputId": "320fda7d-3351-4487-9fbf-99229ed0f882"
      },
      "cell_type": "code",
      "source": [
        "x , y = shuffle(x, y, random_state=0)\n",
        "split=int(0.9*(x.shape[0]))\n",
        "train_features = x[:split]\n",
        "train_labels=y[:split]\n",
        "test_features = x[split:]\n",
        "test_labels=y[split:]\n",
        "print (train_features.shape, train_labels.shape, test_features.shape, test_labels.shape)"
      ],
      "execution_count": 66,
      "outputs": [
        {
          "output_type": "stream",
          "text": [
            "(252, 175, 130, 1) (252, 140) (28, 175, 130, 1) (28, 140)\n"
          ],
          "name": "stdout"
        }
      ]
    },
    {
      "metadata": {
        "id": "Wmyu7bOCKt6g",
        "colab_type": "code",
        "colab": {
          "base_uri": "https://localhost:8080/",
          "height": 238
        },
        "outputId": "d9ba2536-27e0-46c0-f6cd-3b4f2a1f6467"
      },
      "cell_type": "code",
      "source": [
        "model=Sequential()\n",
        "model.add(Convolution2D(32,3,3,input_shape=(175,130,1)))\n",
        "model.add(Activation('relu'))\n",
        "model.add(Convolution2D(64,3,3))\n",
        "model.add(Activation('relu'))\n",
        "model.add(MaxPooling2D(pool_size=(2,2)))\n",
        "model.add(Convolution2D(16,3,3))\n",
        "model.add(Activation('relu'))\n",
        "model.add(Flatten())\n",
        "model.add(Dropout(0.25))\n",
        "model.add(Dense(y.shape[1]))\n",
        "model.add(Activation('softmax'))\n"
      ],
      "execution_count": 58,
      "outputs": [
        {
          "output_type": "stream",
          "text": [
            "WARNING:tensorflow:From /usr/local/lib/python3.6/dist-packages/tensorflow/python/framework/op_def_library.py:263: colocate_with (from tensorflow.python.framework.ops) is deprecated and will be removed in a future version.\n",
            "Instructions for updating:\n",
            "Colocations handled automatically by placer.\n",
            "WARNING:tensorflow:From /usr/local/lib/python3.6/dist-packages/keras/backend/tensorflow_backend.py:3445: calling dropout (from tensorflow.python.ops.nn_ops) with keep_prob is deprecated and will be removed in a future version.\n",
            "Instructions for updating:\n",
            "Please use `rate` instead of `keep_prob`. Rate should be set to `rate = 1 - keep_prob`.\n"
          ],
          "name": "stdout"
        },
        {
          "output_type": "stream",
          "text": [
            "/usr/local/lib/python3.6/dist-packages/ipykernel_launcher.py:2: UserWarning: Update your `Conv2D` call to the Keras 2 API: `Conv2D(32, (3, 3), input_shape=(175, 130,...)`\n",
            "  \n",
            "/usr/local/lib/python3.6/dist-packages/ipykernel_launcher.py:4: UserWarning: Update your `Conv2D` call to the Keras 2 API: `Conv2D(64, (3, 3))`\n",
            "  after removing the cwd from sys.path.\n",
            "/usr/local/lib/python3.6/dist-packages/ipykernel_launcher.py:7: UserWarning: Update your `Conv2D` call to the Keras 2 API: `Conv2D(16, (3, 3))`\n",
            "  import sys\n"
          ],
          "name": "stderr"
        }
      ]
    },
    {
      "metadata": {
        "id": "YB93GpkHRVHL",
        "colab_type": "code",
        "colab": {
          "base_uri": "https://localhost:8080/",
          "height": 504
        },
        "outputId": "b17ede78-16ed-4bd5-8b1f-39d29f4a01d9"
      },
      "cell_type": "code",
      "source": [
        "model.summary()"
      ],
      "execution_count": 59,
      "outputs": [
        {
          "output_type": "stream",
          "text": [
            "_________________________________________________________________\n",
            "Layer (type)                 Output Shape              Param #   \n",
            "=================================================================\n",
            "conv2d_3 (Conv2D)            (None, 173, 128, 32)      320       \n",
            "_________________________________________________________________\n",
            "activation_1 (Activation)    (None, 173, 128, 32)      0         \n",
            "_________________________________________________________________\n",
            "conv2d_4 (Conv2D)            (None, 171, 126, 64)      18496     \n",
            "_________________________________________________________________\n",
            "activation_2 (Activation)    (None, 171, 126, 64)      0         \n",
            "_________________________________________________________________\n",
            "max_pooling2d_1 (MaxPooling2 (None, 85, 63, 64)        0         \n",
            "_________________________________________________________________\n",
            "conv2d_5 (Conv2D)            (None, 83, 61, 16)        9232      \n",
            "_________________________________________________________________\n",
            "activation_3 (Activation)    (None, 83, 61, 16)        0         \n",
            "_________________________________________________________________\n",
            "flatten_1 (Flatten)          (None, 81008)             0         \n",
            "_________________________________________________________________\n",
            "dropout_1 (Dropout)          (None, 81008)             0         \n",
            "_________________________________________________________________\n",
            "dense_1 (Dense)              (None, 140)               11341260  \n",
            "_________________________________________________________________\n",
            "activation_4 (Activation)    (None, 140)               0         \n",
            "=================================================================\n",
            "Total params: 11,369,308\n",
            "Trainable params: 11,369,308\n",
            "Non-trainable params: 0\n",
            "_________________________________________________________________\n"
          ],
          "name": "stdout"
        }
      ]
    },
    {
      "metadata": {
        "id": "axWBxo9sRWzI",
        "colab_type": "code",
        "colab": {
          "base_uri": "https://localhost:8080/",
          "height": 440
        },
        "outputId": "7cb127f8-90cb-42d3-bd53-a894446ecda2"
      },
      "cell_type": "code",
      "source": [
        "model.compile( optimizer='adam', loss='categorical_crossentropy', metrics=['accuracy'] )\n",
        "model.fit( train_features,train_labels,validation_data=(test_features,test_labels), shuffle=True, batch_size=128, nb_epoch=10 )"
      ],
      "execution_count": 67,
      "outputs": [
        {
          "output_type": "stream",
          "text": [
            "/usr/local/lib/python3.6/dist-packages/ipykernel_launcher.py:2: UserWarning: The `nb_epoch` argument in `fit` has been renamed `epochs`.\n",
            "  \n"
          ],
          "name": "stderr"
        },
        {
          "output_type": "stream",
          "text": [
            "Train on 252 samples, validate on 28 samples\n",
            "Epoch 1/10\n",
            "252/252 [==============================] - 31s 122ms/step - loss: 6.2357 - acc: 0.0198 - val_loss: 5.1240 - val_acc: 0.0000e+00\n",
            "Epoch 2/10\n",
            "252/252 [==============================] - 31s 122ms/step - loss: 4.9322 - acc: 0.0198 - val_loss: 5.0704 - val_acc: 0.0000e+00\n",
            "Epoch 3/10\n",
            "252/252 [==============================] - 31s 122ms/step - loss: 4.7340 - acc: 0.1587 - val_loss: 4.8691 - val_acc: 0.0357\n",
            "Epoch 4/10\n",
            "252/252 [==============================] - 30s 121ms/step - loss: 4.5109 - acc: 0.4325 - val_loss: 5.1857 - val_acc: 0.0000e+00\n",
            "Epoch 5/10\n",
            "252/252 [==============================] - 30s 120ms/step - loss: 4.1697 - acc: 0.4325 - val_loss: 5.3282 - val_acc: 0.0000e+00\n",
            "Epoch 6/10\n",
            "252/252 [==============================] - 30s 120ms/step - loss: 3.7550 - acc: 0.5437 - val_loss: 5.4776 - val_acc: 0.0000e+00\n",
            "Epoch 7/10\n",
            "252/252 [==============================] - 30s 121ms/step - loss: 3.0532 - acc: 0.6905 - val_loss: 5.4944 - val_acc: 0.0714\n",
            "Epoch 8/10\n",
            "252/252 [==============================] - 30s 119ms/step - loss: 2.3020 - acc: 0.7698 - val_loss: 4.7252 - val_acc: 0.1786\n",
            "Epoch 9/10\n",
            "252/252 [==============================] - 31s 121ms/step - loss: 1.5336 - acc: 0.8413 - val_loss: 3.9631 - val_acc: 0.3214\n",
            "Epoch 10/10\n",
            "252/252 [==============================] - 31s 122ms/step - loss: 0.9021 - acc: 0.9127 - val_loss: 3.0951 - val_acc: 0.6071\n"
          ],
          "name": "stdout"
        },
        {
          "output_type": "execute_result",
          "data": {
            "text/plain": [
              "<keras.callbacks.History at 0x7fa44d6a1438>"
            ]
          },
          "metadata": {
            "tags": []
          },
          "execution_count": 67
        }
      ]
    },
    {
      "metadata": {
        "id": "y18msTldR9gg",
        "colab_type": "code",
        "colab": {}
      },
      "cell_type": "code",
      "source": [
        "model.save('TrainWeights.h5')"
      ],
      "execution_count": 0,
      "outputs": []
    },
    {
      "metadata": {
        "id": "f_xNm94dVwu_",
        "colab_type": "code",
        "colab": {}
      },
      "cell_type": "code",
      "source": [
        ""
      ],
      "execution_count": 0,
      "outputs": []
    }
  ]
}